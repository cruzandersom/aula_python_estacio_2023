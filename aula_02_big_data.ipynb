{
  "nbformat": 4,
  "nbformat_minor": 0,
  "metadata": {
    "colab": {
      "provenance": [],
      "authorship_tag": "ABX9TyNoYQeLlTR6HqIaT41zGqeH",
      "include_colab_link": true
    },
    "kernelspec": {
      "name": "python3",
      "display_name": "Python 3"
    },
    "language_info": {
      "name": "python"
    }
  },
  "cells": [
    {
      "cell_type": "markdown",
      "metadata": {
        "id": "view-in-github",
        "colab_type": "text"
      },
      "source": [
        "<a href=\"https://colab.research.google.com/github/cruzandersom/aula_python_estacio_2023/blob/master/aula_02_big_data.ipynb\" target=\"_parent\"><img src=\"https://colab.research.google.com/assets/colab-badge.svg\" alt=\"Open In Colab\"/></a>"
      ]
    },
    {
      "cell_type": "code",
      "execution_count": 1,
      "metadata": {
        "id": "vq-QbTUTUGe8"
      },
      "outputs": [],
      "source": [
        "# importando pandas\n",
        "import pandas as pd\n"
      ]
    },
    {
      "cell_type": "code",
      "source": [
        "# importando dataframe\n",
        "df = pd.read_csv('jan22_.csv',\n",
        "                 encoding='cp1250',\n",
        "                 sep=';',\n",
        "                 decimal=',',\n",
        "                 thousands='.')"
      ],
      "metadata": {
        "id": "plh0e85iVzBz"
      },
      "execution_count": 3,
      "outputs": []
    },
    {
      "cell_type": "code",
      "source": [
        "# Gerando  um dicionário com os nomes das columas\n",
        "colunas = {\n",
        "    'Origem': 'origem',\n",
        "    'Gerente Vendas': 'gerente',\n",
        "    'Area': 'area',\n",
        "    'Setor': 'setor',\n",
        "    'Vendedor': 'vendedor',\n",
        "    'Cliente': 'cliente',\n",
        "    'Categoria Cliente': 'categoria',\n",
        "    'Tipo Movimento': 'tipo_movimento',\n",
        "    'Operacao': 'operacao',\n",
        "    'Data': 'data',\n",
        "    'Cod. Prod.': 'cod_produto',\n",
        "    'Volume Marcacao': 'volume_marcado',\n",
        "    'Volume Entrega': 'volume_entregue',\n",
        "    'Motivo': 'motivo',\n",
        "    'Submotivo 1': 'submotivo_1',\n",
        "    'Submotivo 2': 'submotivo_2'}"
      ],
      "metadata": {
        "id": "XT6On3Oga8IK"
      },
      "execution_count": 4,
      "outputs": []
    },
    {
      "cell_type": "code",
      "source": [
        "# Renomeando colunas com o inplace\n",
        "df.rename(columns=colunas, inplace=True)\n"
      ],
      "metadata": {
        "id": "VUIIfULdeiS-"
      },
      "execution_count": 5,
      "outputs": []
    },
    {
      "cell_type": "code",
      "source": [
        "df['data'] = pd.to_datetime(df['data'], dayfirst=True)"
      ],
      "metadata": {
        "id": "TiaISzLYpob6"
      },
      "execution_count": 6,
      "outputs": []
    },
    {
      "cell_type": "code",
      "source": [
        "df = df.drop(['origem', 'operacao'], axis=1)"
      ],
      "metadata": {
        "id": "Pu7Bo-mHsz_2"
      },
      "execution_count": 7,
      "outputs": []
    },
    {
      "cell_type": "markdown",
      "source": [],
      "metadata": {
        "id": "fTv8P5RVh7d0"
      }
    },
    {
      "cell_type": "code",
      "source": [
        "df.head(2)"
      ],
      "metadata": {
        "id": "0WqtSV1Dj9sc",
        "colab": {
          "base_uri": "https://localhost:8080/",
          "height": 167
        },
        "outputId": "60dadc49-e48d-4f03-b8ff-28e9c56237c9"
      },
      "execution_count": 9,
      "outputs": [
        {
          "output_type": "execute_result",
          "data": {
            "text/plain": [
              "   gerente  area  setor  vendedor  cliente  categoria  tipo_movimento  \\\n",
              "0        4    40    405       405        7         10              51   \n",
              "1        4    40    405       405        7         10              51   \n",
              "\n",
              "        data  cod_produto  volume_marcado  volume_entregue         motivo  \\\n",
              "0 2022-01-03         9320           0.056            0.056  Pedido Normal   \n",
              "1 2022-01-03         9083           0.056            0.056  Pedido Normal   \n",
              "\n",
              "  submotivo_1 submotivo_2  \n",
              "0         NaN         NaN  \n",
              "1         NaN         NaN  "
            ],
            "text/html": [
              "\n",
              "  <div id=\"df-22b1bc3a-36e6-420c-a611-ba138375d9c3\" class=\"colab-df-container\">\n",
              "    <div>\n",
              "<style scoped>\n",
              "    .dataframe tbody tr th:only-of-type {\n",
              "        vertical-align: middle;\n",
              "    }\n",
              "\n",
              "    .dataframe tbody tr th {\n",
              "        vertical-align: top;\n",
              "    }\n",
              "\n",
              "    .dataframe thead th {\n",
              "        text-align: right;\n",
              "    }\n",
              "</style>\n",
              "<table border=\"1\" class=\"dataframe\">\n",
              "  <thead>\n",
              "    <tr style=\"text-align: right;\">\n",
              "      <th></th>\n",
              "      <th>gerente</th>\n",
              "      <th>area</th>\n",
              "      <th>setor</th>\n",
              "      <th>vendedor</th>\n",
              "      <th>cliente</th>\n",
              "      <th>categoria</th>\n",
              "      <th>tipo_movimento</th>\n",
              "      <th>data</th>\n",
              "      <th>cod_produto</th>\n",
              "      <th>volume_marcado</th>\n",
              "      <th>volume_entregue</th>\n",
              "      <th>motivo</th>\n",
              "      <th>submotivo_1</th>\n",
              "      <th>submotivo_2</th>\n",
              "    </tr>\n",
              "  </thead>\n",
              "  <tbody>\n",
              "    <tr>\n",
              "      <th>0</th>\n",
              "      <td>4</td>\n",
              "      <td>40</td>\n",
              "      <td>405</td>\n",
              "      <td>405</td>\n",
              "      <td>7</td>\n",
              "      <td>10</td>\n",
              "      <td>51</td>\n",
              "      <td>2022-01-03</td>\n",
              "      <td>9320</td>\n",
              "      <td>0.056</td>\n",
              "      <td>0.056</td>\n",
              "      <td>Pedido Normal</td>\n",
              "      <td>NaN</td>\n",
              "      <td>NaN</td>\n",
              "    </tr>\n",
              "    <tr>\n",
              "      <th>1</th>\n",
              "      <td>4</td>\n",
              "      <td>40</td>\n",
              "      <td>405</td>\n",
              "      <td>405</td>\n",
              "      <td>7</td>\n",
              "      <td>10</td>\n",
              "      <td>51</td>\n",
              "      <td>2022-01-03</td>\n",
              "      <td>9083</td>\n",
              "      <td>0.056</td>\n",
              "      <td>0.056</td>\n",
              "      <td>Pedido Normal</td>\n",
              "      <td>NaN</td>\n",
              "      <td>NaN</td>\n",
              "    </tr>\n",
              "  </tbody>\n",
              "</table>\n",
              "</div>\n",
              "    <div class=\"colab-df-buttons\">\n",
              "\n",
              "  <div class=\"colab-df-container\">\n",
              "    <button class=\"colab-df-convert\" onclick=\"convertToInteractive('df-22b1bc3a-36e6-420c-a611-ba138375d9c3')\"\n",
              "            title=\"Convert this dataframe to an interactive table.\"\n",
              "            style=\"display:none;\">\n",
              "\n",
              "  <svg xmlns=\"http://www.w3.org/2000/svg\" height=\"24px\" viewBox=\"0 -960 960 960\">\n",
              "    <path d=\"M120-120v-720h720v720H120Zm60-500h600v-160H180v160Zm220 220h160v-160H400v160Zm0 220h160v-160H400v160ZM180-400h160v-160H180v160Zm440 0h160v-160H620v160ZM180-180h160v-160H180v160Zm440 0h160v-160H620v160Z\"/>\n",
              "  </svg>\n",
              "    </button>\n",
              "\n",
              "  <style>\n",
              "    .colab-df-container {\n",
              "      display:flex;\n",
              "      gap: 12px;\n",
              "    }\n",
              "\n",
              "    .colab-df-convert {\n",
              "      background-color: #E8F0FE;\n",
              "      border: none;\n",
              "      border-radius: 50%;\n",
              "      cursor: pointer;\n",
              "      display: none;\n",
              "      fill: #1967D2;\n",
              "      height: 32px;\n",
              "      padding: 0 0 0 0;\n",
              "      width: 32px;\n",
              "    }\n",
              "\n",
              "    .colab-df-convert:hover {\n",
              "      background-color: #E2EBFA;\n",
              "      box-shadow: 0px 1px 2px rgba(60, 64, 67, 0.3), 0px 1px 3px 1px rgba(60, 64, 67, 0.15);\n",
              "      fill: #174EA6;\n",
              "    }\n",
              "\n",
              "    .colab-df-buttons div {\n",
              "      margin-bottom: 4px;\n",
              "    }\n",
              "\n",
              "    [theme=dark] .colab-df-convert {\n",
              "      background-color: #3B4455;\n",
              "      fill: #D2E3FC;\n",
              "    }\n",
              "\n",
              "    [theme=dark] .colab-df-convert:hover {\n",
              "      background-color: #434B5C;\n",
              "      box-shadow: 0px 1px 3px 1px rgba(0, 0, 0, 0.15);\n",
              "      filter: drop-shadow(0px 1px 2px rgba(0, 0, 0, 0.3));\n",
              "      fill: #FFFFFF;\n",
              "    }\n",
              "  </style>\n",
              "\n",
              "    <script>\n",
              "      const buttonEl =\n",
              "        document.querySelector('#df-22b1bc3a-36e6-420c-a611-ba138375d9c3 button.colab-df-convert');\n",
              "      buttonEl.style.display =\n",
              "        google.colab.kernel.accessAllowed ? 'block' : 'none';\n",
              "\n",
              "      async function convertToInteractive(key) {\n",
              "        const element = document.querySelector('#df-22b1bc3a-36e6-420c-a611-ba138375d9c3');\n",
              "        const dataTable =\n",
              "          await google.colab.kernel.invokeFunction('convertToInteractive',\n",
              "                                                    [key], {});\n",
              "        if (!dataTable) return;\n",
              "\n",
              "        const docLinkHtml = 'Like what you see? Visit the ' +\n",
              "          '<a target=\"_blank\" href=https://colab.research.google.com/notebooks/data_table.ipynb>data table notebook</a>'\n",
              "          + ' to learn more about interactive tables.';\n",
              "        element.innerHTML = '';\n",
              "        dataTable['output_type'] = 'display_data';\n",
              "        await google.colab.output.renderOutput(dataTable, element);\n",
              "        const docLink = document.createElement('div');\n",
              "        docLink.innerHTML = docLinkHtml;\n",
              "        element.appendChild(docLink);\n",
              "      }\n",
              "    </script>\n",
              "  </div>\n",
              "\n",
              "\n",
              "<div id=\"df-13e3aaea-904f-49f7-92d1-d90490b29ddd\">\n",
              "  <button class=\"colab-df-quickchart\" onclick=\"quickchart('df-13e3aaea-904f-49f7-92d1-d90490b29ddd')\"\n",
              "            title=\"Suggest charts.\"\n",
              "            style=\"display:none;\">\n",
              "\n",
              "<svg xmlns=\"http://www.w3.org/2000/svg\" height=\"24px\"viewBox=\"0 0 24 24\"\n",
              "     width=\"24px\">\n",
              "    <g>\n",
              "        <path d=\"M19 3H5c-1.1 0-2 .9-2 2v14c0 1.1.9 2 2 2h14c1.1 0 2-.9 2-2V5c0-1.1-.9-2-2-2zM9 17H7v-7h2v7zm4 0h-2V7h2v10zm4 0h-2v-4h2v4z\"/>\n",
              "    </g>\n",
              "</svg>\n",
              "  </button>\n",
              "\n",
              "<style>\n",
              "  .colab-df-quickchart {\n",
              "      --bg-color: #E8F0FE;\n",
              "      --fill-color: #1967D2;\n",
              "      --hover-bg-color: #E2EBFA;\n",
              "      --hover-fill-color: #174EA6;\n",
              "      --disabled-fill-color: #AAA;\n",
              "      --disabled-bg-color: #DDD;\n",
              "  }\n",
              "\n",
              "  [theme=dark] .colab-df-quickchart {\n",
              "      --bg-color: #3B4455;\n",
              "      --fill-color: #D2E3FC;\n",
              "      --hover-bg-color: #434B5C;\n",
              "      --hover-fill-color: #FFFFFF;\n",
              "      --disabled-bg-color: #3B4455;\n",
              "      --disabled-fill-color: #666;\n",
              "  }\n",
              "\n",
              "  .colab-df-quickchart {\n",
              "    background-color: var(--bg-color);\n",
              "    border: none;\n",
              "    border-radius: 50%;\n",
              "    cursor: pointer;\n",
              "    display: none;\n",
              "    fill: var(--fill-color);\n",
              "    height: 32px;\n",
              "    padding: 0;\n",
              "    width: 32px;\n",
              "  }\n",
              "\n",
              "  .colab-df-quickchart:hover {\n",
              "    background-color: var(--hover-bg-color);\n",
              "    box-shadow: 0 1px 2px rgba(60, 64, 67, 0.3), 0 1px 3px 1px rgba(60, 64, 67, 0.15);\n",
              "    fill: var(--button-hover-fill-color);\n",
              "  }\n",
              "\n",
              "  .colab-df-quickchart-complete:disabled,\n",
              "  .colab-df-quickchart-complete:disabled:hover {\n",
              "    background-color: var(--disabled-bg-color);\n",
              "    fill: var(--disabled-fill-color);\n",
              "    box-shadow: none;\n",
              "  }\n",
              "\n",
              "  .colab-df-spinner {\n",
              "    border: 2px solid var(--fill-color);\n",
              "    border-color: transparent;\n",
              "    border-bottom-color: var(--fill-color);\n",
              "    animation:\n",
              "      spin 1s steps(1) infinite;\n",
              "  }\n",
              "\n",
              "  @keyframes spin {\n",
              "    0% {\n",
              "      border-color: transparent;\n",
              "      border-bottom-color: var(--fill-color);\n",
              "      border-left-color: var(--fill-color);\n",
              "    }\n",
              "    20% {\n",
              "      border-color: transparent;\n",
              "      border-left-color: var(--fill-color);\n",
              "      border-top-color: var(--fill-color);\n",
              "    }\n",
              "    30% {\n",
              "      border-color: transparent;\n",
              "      border-left-color: var(--fill-color);\n",
              "      border-top-color: var(--fill-color);\n",
              "      border-right-color: var(--fill-color);\n",
              "    }\n",
              "    40% {\n",
              "      border-color: transparent;\n",
              "      border-right-color: var(--fill-color);\n",
              "      border-top-color: var(--fill-color);\n",
              "    }\n",
              "    60% {\n",
              "      border-color: transparent;\n",
              "      border-right-color: var(--fill-color);\n",
              "    }\n",
              "    80% {\n",
              "      border-color: transparent;\n",
              "      border-right-color: var(--fill-color);\n",
              "      border-bottom-color: var(--fill-color);\n",
              "    }\n",
              "    90% {\n",
              "      border-color: transparent;\n",
              "      border-bottom-color: var(--fill-color);\n",
              "    }\n",
              "  }\n",
              "</style>\n",
              "\n",
              "  <script>\n",
              "    async function quickchart(key) {\n",
              "      const quickchartButtonEl =\n",
              "        document.querySelector('#' + key + ' button');\n",
              "      quickchartButtonEl.disabled = true;  // To prevent multiple clicks.\n",
              "      quickchartButtonEl.classList.add('colab-df-spinner');\n",
              "      try {\n",
              "        const charts = await google.colab.kernel.invokeFunction(\n",
              "            'suggestCharts', [key], {});\n",
              "      } catch (error) {\n",
              "        console.error('Error during call to suggestCharts:', error);\n",
              "      }\n",
              "      quickchartButtonEl.classList.remove('colab-df-spinner');\n",
              "      quickchartButtonEl.classList.add('colab-df-quickchart-complete');\n",
              "    }\n",
              "    (() => {\n",
              "      let quickchartButtonEl =\n",
              "        document.querySelector('#df-13e3aaea-904f-49f7-92d1-d90490b29ddd button');\n",
              "      quickchartButtonEl.style.display =\n",
              "        google.colab.kernel.accessAllowed ? 'block' : 'none';\n",
              "    })();\n",
              "  </script>\n",
              "</div>\n",
              "    </div>\n",
              "  </div>\n"
            ]
          },
          "metadata": {},
          "execution_count": 9
        }
      ]
    },
    {
      "cell_type": "code",
      "source": [
        "df.submotivo_1.value_counts()"
      ],
      "metadata": {
        "colab": {
          "base_uri": "https://localhost:8080/"
        },
        "id": "wn_6l4-UdfLh",
        "outputId": "420b0502-f03a-494d-edf1-78ccaf27875c"
      },
      "execution_count": 10,
      "outputs": [
        {
          "output_type": "execute_result",
          "data": {
            "text/plain": [
              "Resp: 000007 - MERCADO            388\n",
              "Resp: 000006 - CIA - VENDAS       380\n",
              "Alçada: GAF                       348\n",
              "Orfăo Faturamento                 152\n",
              "Falta Real                        138\n",
              "Alçada: GOD                       100\n",
              "Resp: 000008 - TRANSPORTADORA      90\n",
              "Alçada: VD                         36\n",
              "Resp: 000005 - CIA - FINANCEIR     16\n",
              "Falta Teórica                      14\n",
              "Orfăo Roterizaçăo                   9\n",
              "Alçada: GV                          5\n",
              "Resp: 000009 - PROCESSO             3\n",
              "Name: submotivo_1, dtype: int64"
            ]
          },
          "metadata": {},
          "execution_count": 10
        }
      ]
    },
    {
      "cell_type": "markdown",
      "source": [],
      "metadata": {
        "id": "wWtaHnwieZgJ"
      }
    },
    {
      "cell_type": "code",
      "source": [
        "df.submotivo_1.fillna(value='sem motivo').value_counts()"
      ],
      "metadata": {
        "colab": {
          "base_uri": "https://localhost:8080/"
        },
        "id": "oX0B6cd_doYg",
        "outputId": "4973e6d4-af0c-47a0-f66a-f3bd3392d531"
      },
      "execution_count": 17,
      "outputs": [
        {
          "output_type": "execute_result",
          "data": {
            "text/plain": [
              "sem motivo                        63061\n",
              "Resp: 000007 - MERCADO              388\n",
              "Resp: 000006 - CIA - VENDAS         380\n",
              "Alçada: GAF                         348\n",
              "Orfăo Faturamento                   152\n",
              "Falta Real                          138\n",
              "Alçada: GOD                         100\n",
              "Resp: 000008 - TRANSPORTADORA        90\n",
              "Alçada: VD                           36\n",
              "Resp: 000005 - CIA - FINANCEIR       16\n",
              "Falta Teórica                        14\n",
              "Orfăo Roterizaçăo                     9\n",
              "Alçada: GV                            5\n",
              "Resp: 000009 - PROCESSO               3\n",
              "Name: submotivo_1, dtype: int64"
            ]
          },
          "metadata": {},
          "execution_count": 17
        }
      ]
    },
    {
      "cell_type": "code",
      "source": [
        "df[['submotivo_1', 'submotivo_2']].\\\n",
        "  fillna(value='sem motivo').value_counts()"
      ],
      "metadata": {
        "colab": {
          "base_uri": "https://localhost:8080/"
        },
        "id": "ekwXh2-keLIM",
        "outputId": "5c026d1b-182a-458a-e095-b1cc98b555d2"
      },
      "execution_count": 18,
      "outputs": [
        {
          "output_type": "execute_result",
          "data": {
            "text/plain": [
              "submotivo_1                     submotivo_2                   \n",
              "sem motivo                      sem motivo                        63040\n",
              "Alçada: GAF                     Cód.Crítica: 000075                 246\n",
              "Resp: 000006 - CIA - VENDAS     Motivo: 000063 - PRODUTO / QTD      231\n",
              "Resp: 000007 - MERCADO          Motivo: 000072 - PDV FECHADO (      202\n",
              "                                Motivo: 000070 - CLIENTE CANCE      176\n",
              "Orfăo Faturamento               Pré-Roteirizaçăo                    152\n",
              "Falta Real                      sem motivo                          138\n",
              "Alçada: GOD                     Cód.Crítica: 000160                 100\n",
              "Alçada: GAF                     Cód.Crítica: 000021                  99\n",
              "Resp: 000006 - CIA - VENDAS     Motivo: 000064 - SEM VASILHAME       59\n",
              "                                Motivo: 000065 - NAO FEZ PEDID       46\n",
              "Resp: 000008 - TRANSPORTADORA   Motivo: 000085 - DIFICIL ACESS       43\n",
              "Resp: 000006 - CIA - VENDAS     Motivo: 000023 - (C)Pedidos du       40\n",
              "Alçada: VD                      sem motivo                           29\n",
              "Resp: 000008 - TRANSPORTADORA   Motivo: 000083 - PROPRIETARIO        28\n",
              "sem motivo                      Motivo: 000099 - Motivo Cancel       21\n",
              "Resp: 000008 - TRANSPORTADORA   Motivo: 000080 - CAMINHAO QUEB       14\n",
              "Falta Teórica                   sem motivo                           14\n",
              "Resp: 000007 - MERCADO          Motivo: 000071 - SEM DINHEIRO/       10\n",
              "Resp: 000005 - CIA - FINANCEIR  Motivo: 000051 - NF ERRADA            9\n",
              "Orfăo Roterizaçăo               sem motivo                            9\n",
              "Resp: 000005 - CIA - FINANCEIR  Motivo: 000050 - CARGA ERRADA         7\n",
              "Alçada: VD                      Cód.Crítica: 000075                   7\n",
              "Resp: 000006 - CIA - VENDAS     Motivo: 000062 - FORMA PAGAMEN        4\n",
              "Alçada: GV                      Cód.Crítica: 000062                   4\n",
              "Resp: 000008 - TRANSPORTADORA   Motivo: 000084 - AREA DE RISCO        3\n",
              "Resp: 000009 - PROCESSO         Motivo: 000008 - Mapa nao carr        3\n",
              "Alçada: GAF                     Cód.Crítica: 000011                   3\n",
              "Resp: 000008 - TRANSPORTADORA   Motivo: 000082 - ENDERECO NAO         2\n",
              "Alçada: GV                      Cód.Crítica: 000109                   1\n",
              "dtype: int64"
            ]
          },
          "metadata": {},
          "execution_count": 18
        }
      ]
    },
    {
      "cell_type": "code",
      "source": [],
      "metadata": {
        "id": "tTniEzFAeTEK"
      },
      "execution_count": null,
      "outputs": []
    }
  ]
}